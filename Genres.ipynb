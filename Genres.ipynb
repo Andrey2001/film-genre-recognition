{
 "cells": [
  {
   "cell_type": "code",
   "execution_count": 6,
   "metadata": {},
   "outputs": [],
   "source": [
    "import pandas as pd\n",
    "import numpy as np\n",
    "import matplotlib.pyplot as plt\n",
    "\n",
    "from sklearn import neighbors\n",
    "from sklearn.feature_extraction.text import TfidfVectorizer\n",
    "from sklearn.metrics import accuracy_score, recall_score"
   ]
  },
  {
   "cell_type": "markdown",
   "metadata": {},
   "source": [
    "# Обработка данных"
   ]
  },
  {
   "cell_type": "markdown",
   "metadata": {},
   "source": [
    "загружаем датасет"
   ]
  },
  {
   "cell_type": "code",
   "execution_count": 7,
   "metadata": {},
   "outputs": [],
   "source": [
    "movies0 = pd.read_csv('D:\\prac\\IMDb movies.csv', delimiter = ',', low_memory=False)"
   ]
  },
  {
   "cell_type": "markdown",
   "metadata": {},
   "source": [
    "отбираем столбцы, с которыми будем работать"
   ]
  },
  {
   "cell_type": "code",
   "execution_count": 8,
   "metadata": {},
   "outputs": [
    {
     "name": "stderr",
     "output_type": "stream",
     "text": [
      "<ipython-input-8-523842326d47>:3: SettingWithCopyWarning: \n",
      "A value is trying to be set on a copy of a slice from a DataFrame\n",
      "\n",
      "See the caveats in the documentation: https://pandas.pydata.org/pandas-docs/stable/user_guide/indexing.html#returning-a-view-versus-a-copy\n",
      "  movies.dropna(axis=0,inplace=True)\n"
     ]
    }
   ],
   "source": [
    "movies = movies0[['original_title', 'description', 'actors', 'director', 'writer', 'production_company', 'genre']]\n",
    "\n",
    "movies.dropna(axis=0,inplace=True)"
   ]
  },
  {
   "cell_type": "markdown",
   "metadata": {},
   "source": [
    "Добавляем столбцы, в которые будем записывать ответы алгоритма"
   ]
  },
  {
   "cell_type": "code",
   "execution_count": 9,
   "metadata": {},
   "outputs": [
    {
     "name": "stderr",
     "output_type": "stream",
     "text": [
      "<ipython-input-9-c9dcb4656e93>:1: SettingWithCopyWarning: \n",
      "A value is trying to be set on a copy of a slice from a DataFrame.\n",
      "Try using .loc[row_indexer,col_indexer] = value instead\n",
      "\n",
      "See the caveats in the documentation: https://pandas.pydata.org/pandas-docs/stable/user_guide/indexing.html#returning-a-view-versus-a-copy\n",
      "  movies['drama'] = np.zeros(movies.shape[0])\n",
      "<ipython-input-9-c9dcb4656e93>:2: SettingWithCopyWarning: \n",
      "A value is trying to be set on a copy of a slice from a DataFrame.\n",
      "Try using .loc[row_indexer,col_indexer] = value instead\n",
      "\n",
      "See the caveats in the documentation: https://pandas.pydata.org/pandas-docs/stable/user_guide/indexing.html#returning-a-view-versus-a-copy\n",
      "  movies['drama'] = np.where((movies.genre.str.contains('Drama')), 1, movies.drama)\n",
      "<ipython-input-9-c9dcb4656e93>:3: SettingWithCopyWarning: \n",
      "A value is trying to be set on a copy of a slice from a DataFrame.\n",
      "Try using .loc[row_indexer,col_indexer] = value instead\n",
      "\n",
      "See the caveats in the documentation: https://pandas.pydata.org/pandas-docs/stable/user_guide/indexing.html#returning-a-view-versus-a-copy\n",
      "  movies['comedy'] = np.zeros(movies.shape[0])\n",
      "<ipython-input-9-c9dcb4656e93>:4: SettingWithCopyWarning: \n",
      "A value is trying to be set on a copy of a slice from a DataFrame.\n",
      "Try using .loc[row_indexer,col_indexer] = value instead\n",
      "\n",
      "See the caveats in the documentation: https://pandas.pydata.org/pandas-docs/stable/user_guide/indexing.html#returning-a-view-versus-a-copy\n",
      "  movies['comedy'] = np.where((movies.genre.str.contains('Comedy')), 1, movies.comedy)\n"
     ]
    }
   ],
   "source": [
    "movies['drama'] = np.zeros(movies.shape[0])\n",
    "movies['drama'] = np.where((movies.genre.str.contains('Drama')), 1, movies.drama)\n",
    "movies['comedy'] = np.zeros(movies.shape[0])\n",
    "movies['comedy'] = np.where((movies.genre.str.contains('Comedy')), 1, movies.comedy)"
   ]
  },
  {
   "cell_type": "code",
   "execution_count": 5,
   "metadata": {},
   "outputs": [
    {
     "data": {
      "text/html": [
       "<div>\n",
       "<style scoped>\n",
       "    .dataframe tbody tr th:only-of-type {\n",
       "        vertical-align: middle;\n",
       "    }\n",
       "\n",
       "    .dataframe tbody tr th {\n",
       "        vertical-align: top;\n",
       "    }\n",
       "\n",
       "    .dataframe thead th {\n",
       "        text-align: right;\n",
       "    }\n",
       "</style>\n",
       "<table border=\"1\" class=\"dataframe\">\n",
       "  <thead>\n",
       "    <tr style=\"text-align: right;\">\n",
       "      <th></th>\n",
       "      <th>original_title</th>\n",
       "      <th>description</th>\n",
       "      <th>actors</th>\n",
       "      <th>director</th>\n",
       "      <th>writer</th>\n",
       "      <th>production_company</th>\n",
       "      <th>genre</th>\n",
       "      <th>drama</th>\n",
       "      <th>comedy</th>\n",
       "    </tr>\n",
       "  </thead>\n",
       "  <tbody>\n",
       "    <tr>\n",
       "      <th>0</th>\n",
       "      <td>Miss Jerry</td>\n",
       "      <td>The adventures of a female reporter in the 1890s.</td>\n",
       "      <td>Blanche Bayliss, William Courtenay, Chauncey D...</td>\n",
       "      <td>Alexander Black</td>\n",
       "      <td>Alexander Black</td>\n",
       "      <td>Alexander Black Photoplays</td>\n",
       "      <td>Romance</td>\n",
       "      <td>0.0</td>\n",
       "      <td>0.0</td>\n",
       "    </tr>\n",
       "    <tr>\n",
       "      <th>1</th>\n",
       "      <td>The Story of the Kelly Gang</td>\n",
       "      <td>True story of notorious Australian outlaw Ned ...</td>\n",
       "      <td>Elizabeth Tait, John Tait, Norman Campbell, Be...</td>\n",
       "      <td>Charles Tait</td>\n",
       "      <td>Charles Tait</td>\n",
       "      <td>J. and N. Tait</td>\n",
       "      <td>Biography, Crime, Drama</td>\n",
       "      <td>1.0</td>\n",
       "      <td>0.0</td>\n",
       "    </tr>\n",
       "    <tr>\n",
       "      <th>2</th>\n",
       "      <td>Den sorte drøm</td>\n",
       "      <td>Two men of high rank are both wooing the beaut...</td>\n",
       "      <td>Asta Nielsen, Valdemar Psilander, Gunnar Helse...</td>\n",
       "      <td>Urban Gad</td>\n",
       "      <td>Urban Gad, Gebhard Schätzler-Perasini</td>\n",
       "      <td>Fotorama</td>\n",
       "      <td>Drama</td>\n",
       "      <td>1.0</td>\n",
       "      <td>0.0</td>\n",
       "    </tr>\n",
       "    <tr>\n",
       "      <th>3</th>\n",
       "      <td>Cleopatra</td>\n",
       "      <td>The fabled queen of Egypt's affair with Roman ...</td>\n",
       "      <td>Helen Gardner, Pearl Sindelar, Miss Fielding, ...</td>\n",
       "      <td>Charles L. Gaskill</td>\n",
       "      <td>Victorien Sardou</td>\n",
       "      <td>Helen Gardner Picture Players</td>\n",
       "      <td>Drama, History</td>\n",
       "      <td>1.0</td>\n",
       "      <td>0.0</td>\n",
       "    </tr>\n",
       "    <tr>\n",
       "      <th>4</th>\n",
       "      <td>L'Inferno</td>\n",
       "      <td>Loosely adapted from Dante's Divine Comedy and...</td>\n",
       "      <td>Salvatore Papa, Arturo Pirovano, Giuseppe de L...</td>\n",
       "      <td>Francesco Bertolini, Adolfo Padovan</td>\n",
       "      <td>Dante Alighieri</td>\n",
       "      <td>Milano Film</td>\n",
       "      <td>Adventure, Drama, Fantasy</td>\n",
       "      <td>1.0</td>\n",
       "      <td>0.0</td>\n",
       "    </tr>\n",
       "    <tr>\n",
       "      <th>...</th>\n",
       "      <td>...</td>\n",
       "      <td>...</td>\n",
       "      <td>...</td>\n",
       "      <td>...</td>\n",
       "      <td>...</td>\n",
       "      <td>...</td>\n",
       "      <td>...</td>\n",
       "      <td>...</td>\n",
       "      <td>...</td>\n",
       "    </tr>\n",
       "    <tr>\n",
       "      <th>85847</th>\n",
       "      <td>Ottam</td>\n",
       "      <td>Set in Trivandrum, the story of Ottam unfolds ...</td>\n",
       "      <td>Nandu Anand, Roshan Ullas, Manikandan R. Achar...</td>\n",
       "      <td>Zam</td>\n",
       "      <td>Rajesh k Narayan</td>\n",
       "      <td>Thomas Thiruvalla Films</td>\n",
       "      <td>Drama</td>\n",
       "      <td>1.0</td>\n",
       "      <td>0.0</td>\n",
       "    </tr>\n",
       "    <tr>\n",
       "      <th>85848</th>\n",
       "      <td>Pengalila</td>\n",
       "      <td>An unusual bond between a sixty year old Dalit...</td>\n",
       "      <td>Lal, Akshara Kishor, Iniya, Narain, Renji Pani...</td>\n",
       "      <td>T.V. Chandran</td>\n",
       "      <td>T.V. Chandran</td>\n",
       "      <td>Benzy Productions</td>\n",
       "      <td>Drama</td>\n",
       "      <td>1.0</td>\n",
       "      <td>0.0</td>\n",
       "    </tr>\n",
       "    <tr>\n",
       "      <th>85850</th>\n",
       "      <td>Le lion</td>\n",
       "      <td>A psychiatric hospital patient pretends to be ...</td>\n",
       "      <td>Dany Boon, Philippe Katerine, Anne Serra, Samu...</td>\n",
       "      <td>Ludovic Colbeau-Justin</td>\n",
       "      <td>Alexandre Coquelle, Matthieu Le Naour</td>\n",
       "      <td>Monkey Pack Films</td>\n",
       "      <td>Comedy</td>\n",
       "      <td>0.0</td>\n",
       "      <td>1.0</td>\n",
       "    </tr>\n",
       "    <tr>\n",
       "      <th>85851</th>\n",
       "      <td>De Beentjes van Sint-Hildegard</td>\n",
       "      <td>A middle-aged veterinary surgeon believes his ...</td>\n",
       "      <td>Herman Finkers, Johanna ter Steege, Leonie ter...</td>\n",
       "      <td>Johan Nijenhuis</td>\n",
       "      <td>Radek Bajgar, Herman Finkers</td>\n",
       "      <td>Johan Nijenhuis &amp; Co</td>\n",
       "      <td>Comedy, Drama</td>\n",
       "      <td>1.0</td>\n",
       "      <td>1.0</td>\n",
       "    </tr>\n",
       "    <tr>\n",
       "      <th>85854</th>\n",
       "      <td>La vida sense la Sara Amat</td>\n",
       "      <td>Pep, a 13-year-old boy, is in love with a girl...</td>\n",
       "      <td>Maria Morera Colomer, Biel Rossell Pelfort, Is...</td>\n",
       "      <td>Laura Jou</td>\n",
       "      <td>Coral Cruz, Pep Puig</td>\n",
       "      <td>La Xarxa de Comunicació Local</td>\n",
       "      <td>Drama</td>\n",
       "      <td>1.0</td>\n",
       "      <td>0.0</td>\n",
       "    </tr>\n",
       "  </tbody>\n",
       "</table>\n",
       "<p>78384 rows × 9 columns</p>\n",
       "</div>"
      ],
      "text/plain": [
       "                       original_title  \\\n",
       "0                          Miss Jerry   \n",
       "1         The Story of the Kelly Gang   \n",
       "2                      Den sorte drøm   \n",
       "3                           Cleopatra   \n",
       "4                           L'Inferno   \n",
       "...                               ...   \n",
       "85847                           Ottam   \n",
       "85848                       Pengalila   \n",
       "85850                         Le lion   \n",
       "85851  De Beentjes van Sint-Hildegard   \n",
       "85854      La vida sense la Sara Amat   \n",
       "\n",
       "                                             description  \\\n",
       "0      The adventures of a female reporter in the 1890s.   \n",
       "1      True story of notorious Australian outlaw Ned ...   \n",
       "2      Two men of high rank are both wooing the beaut...   \n",
       "3      The fabled queen of Egypt's affair with Roman ...   \n",
       "4      Loosely adapted from Dante's Divine Comedy and...   \n",
       "...                                                  ...   \n",
       "85847  Set in Trivandrum, the story of Ottam unfolds ...   \n",
       "85848  An unusual bond between a sixty year old Dalit...   \n",
       "85850  A psychiatric hospital patient pretends to be ...   \n",
       "85851  A middle-aged veterinary surgeon believes his ...   \n",
       "85854  Pep, a 13-year-old boy, is in love with a girl...   \n",
       "\n",
       "                                                  actors  \\\n",
       "0      Blanche Bayliss, William Courtenay, Chauncey D...   \n",
       "1      Elizabeth Tait, John Tait, Norman Campbell, Be...   \n",
       "2      Asta Nielsen, Valdemar Psilander, Gunnar Helse...   \n",
       "3      Helen Gardner, Pearl Sindelar, Miss Fielding, ...   \n",
       "4      Salvatore Papa, Arturo Pirovano, Giuseppe de L...   \n",
       "...                                                  ...   \n",
       "85847  Nandu Anand, Roshan Ullas, Manikandan R. Achar...   \n",
       "85848  Lal, Akshara Kishor, Iniya, Narain, Renji Pani...   \n",
       "85850  Dany Boon, Philippe Katerine, Anne Serra, Samu...   \n",
       "85851  Herman Finkers, Johanna ter Steege, Leonie ter...   \n",
       "85854  Maria Morera Colomer, Biel Rossell Pelfort, Is...   \n",
       "\n",
       "                                  director  \\\n",
       "0                          Alexander Black   \n",
       "1                             Charles Tait   \n",
       "2                                Urban Gad   \n",
       "3                       Charles L. Gaskill   \n",
       "4      Francesco Bertolini, Adolfo Padovan   \n",
       "...                                    ...   \n",
       "85847                                  Zam   \n",
       "85848                        T.V. Chandran   \n",
       "85850               Ludovic Colbeau-Justin   \n",
       "85851                      Johan Nijenhuis   \n",
       "85854                            Laura Jou   \n",
       "\n",
       "                                      writer             production_company  \\\n",
       "0                            Alexander Black     Alexander Black Photoplays   \n",
       "1                               Charles Tait                 J. and N. Tait   \n",
       "2      Urban Gad, Gebhard Schätzler-Perasini                       Fotorama   \n",
       "3                           Victorien Sardou  Helen Gardner Picture Players   \n",
       "4                            Dante Alighieri                    Milano Film   \n",
       "...                                      ...                            ...   \n",
       "85847                       Rajesh k Narayan        Thomas Thiruvalla Films   \n",
       "85848                          T.V. Chandran              Benzy Productions   \n",
       "85850  Alexandre Coquelle, Matthieu Le Naour              Monkey Pack Films   \n",
       "85851           Radek Bajgar, Herman Finkers           Johan Nijenhuis & Co   \n",
       "85854                   Coral Cruz, Pep Puig  La Xarxa de Comunicació Local   \n",
       "\n",
       "                           genre  drama  comedy  \n",
       "0                        Romance    0.0     0.0  \n",
       "1        Biography, Crime, Drama    1.0     0.0  \n",
       "2                          Drama    1.0     0.0  \n",
       "3                 Drama, History    1.0     0.0  \n",
       "4      Adventure, Drama, Fantasy    1.0     0.0  \n",
       "...                          ...    ...     ...  \n",
       "85847                      Drama    1.0     0.0  \n",
       "85848                      Drama    1.0     0.0  \n",
       "85850                     Comedy    0.0     1.0  \n",
       "85851              Comedy, Drama    1.0     1.0  \n",
       "85854                      Drama    1.0     0.0  \n",
       "\n",
       "[78384 rows x 9 columns]"
      ]
     },
     "execution_count": 5,
     "metadata": {},
     "output_type": "execute_result"
    }
   ],
   "source": [
    "movies"
   ]
  },
  {
   "cell_type": "markdown",
   "metadata": {},
   "source": [
    "# Обучение"
   ]
  },
  {
   "cell_type": "markdown",
   "metadata": {},
   "source": [
    "## Жанр драма"
   ]
  },
  {
   "cell_type": "markdown",
   "metadata": {},
   "source": [
    "### формирование датасета"
   ]
  },
  {
   "cell_type": "code",
   "execution_count": 37,
   "metadata": {},
   "outputs": [
    {
     "name": "stdout",
     "output_type": "stream",
     "text": [
      "пример текста\n",
      "Kyu-sik is a seminary student, who one day falls during a church service, dropping a precious, pope-blessed relic. As punishment, he and his comic relief friend Seon-dal are sent away to a ... Sang-Woo Kwon, Ji-Won Ha, In-kwon Kim, In-mun Kim, Seon-hwa Kim, Jae-Hyun Cho, Hye-jin Jeon, Hee-soo Kim, Hye-na Kim Shinbu sueob In-mu Heo In-mu Heo, Eun-kyeong Yun Kihwik Cine\n",
      "\n",
      "размеры выборок: (58788, 19596)\n"
     ]
    }
   ],
   "source": [
    "from sklearn.model_selection import train_test_split\n",
    "X = movies['description'] + ' ' + movies['actors'] + ' ' + movies['original_title'] + ' ' + movies['director'] + ' ' + movies['writer'] + ' ' + movies['production_company']\n",
    "X_train, X_test, y_train, y_test = train_test_split(X, movies['drama'],\n",
    "                                                    random_state=42, shuffle=True, test_size=0.25)\n",
    "X_train = np.array(X_train)\n",
    "X_test = np.array(X_test)\n",
    "y_train = np.array(y_train)\n",
    "y_test = np.array(y_test)\n",
    "\n",
    "print(f'пример текста\\n{X_train[0]}')\n",
    "print(f'\\nразмеры выборок: {len(X_train), len(X_test)}')"
   ]
  },
  {
   "cell_type": "markdown",
   "metadata": {},
   "source": [
    "### Определение функций"
   ]
  },
  {
   "cell_type": "code",
   "execution_count": 6,
   "metadata": {},
   "outputs": [],
   "source": [
    "tf_idf = TfidfVectorizer(max_df=0.8, min_df=10, stop_words='english')"
   ]
  },
  {
   "cell_type": "markdown",
   "metadata": {},
   "source": [
    "Функция, считающая качество обучения на кросс валидации."
   ]
  },
  {
   "cell_type": "code",
   "execution_count": 7,
   "metadata": {},
   "outputs": [],
   "source": [
    "def cv_score(X, y, parameters, folds, knn_class):\n",
    "    ans = []\n",
    "    scaler = TfidfVectorizer(max_df=0.8, min_df=10, stop_words='english')\n",
    "    for sc in parameters['scores']:\n",
    "        ans.append({})\n",
    "        for n in parameters['n_neighbors']:\n",
    "            for w in parameters['weights']:\n",
    "                neigh = knn_class(n_neighbors=n, metric='cosine', weights=w[1])\n",
    "                i = parameters['scores'].index(sc)\n",
    "                ans[i][(n, w[0])] = 0\n",
    "                for f in folds:\n",
    "                    scaler.fit(X[f[0]])\n",
    "                    X_train = scaler.transform(X[f[0]])\n",
    "                    X_test = scaler.transform(X[f[1]])\n",
    "                    neigh.fit(X_train, y[f[0]])\n",
    "                    ans[i][(n, w[0])] += sc(y[f[1]], neigh.predict(X_test))\n",
    "                ans[i][(n, w[0])] /= len(folds)\n",
    "    return ans"
   ]
  },
  {
   "cell_type": "markdown",
   "metadata": {},
   "source": [
    "Функция, разбивающая обучающую выборку на блоки (folds) для кросс валидации"
   ]
  },
  {
   "cell_type": "code",
   "execution_count": 8,
   "metadata": {},
   "outputs": [],
   "source": [
    "def fold_split(num_objects, num_folds):\n",
    "    fold_size = num_objects // num_folds\n",
    "    flag = num_objects % num_folds\n",
    "    ans = list()\n",
    "    for i in range(num_folds):\n",
    "        x = np.arange(num_objects)\n",
    "        mask1 = (x >= (i + 1) * fold_size) | (x < i * fold_size)\n",
    "        mask2 = (x < (i + 1) * fold_size) & (x >= i * fold_size)\n",
    "        if flag and i == num_folds - 1:\n",
    "            ans.append((x[x < i * fold_size], x[x >= i * fold_size]))\n",
    "            break\n",
    "        ans.append((x[mask1], x[mask2]))\n",
    "    return ans"
   ]
  },
  {
   "cell_type": "markdown",
   "metadata": {},
   "source": [
    "реализация линейно и экспоненциально убывающих весов"
   ]
  },
  {
   "cell_type": "code",
   "execution_count": 23,
   "metadata": {},
   "outputs": [],
   "source": [
    "def linear(distances: np.array)->np.array:\n",
    "    weights: np.array = np.array(np.full(distances.shape, 0), dtype='float')\n",
    "    n = distances.shape[1]\n",
    "    weights[:] = np.arange(1.0, 0, -1 / n)\n",
    "    return weights\n",
    "\n",
    "def my_exp(distances: np.array)->np.array:\n",
    "    weights: np.array = np.array(np.full(distances.shape, 0), dtype='float')\n",
    "    n = distances.shape[1]\n",
    "    weights[:] = np.geomspace(1, (1/2) ** (n - 1), n)\n",
    "    return weights"
   ]
  },
  {
   "cell_type": "markdown",
   "metadata": {},
   "source": [
    "### Выбор веса (этап 0)"
   ]
  },
  {
   "cell_type": "markdown",
   "metadata": {},
   "source": [
    "Первый набор параметров"
   ]
  },
  {
   "cell_type": "code",
   "execution_count": 11,
   "metadata": {},
   "outputs": [],
   "source": [
    "par0 = {\n",
    "    'n_neighbors': [i for i in range(1, 11)],\n",
    "    'weights': [('uniform', 'uniform'), ('linear', linear), ('my_exp', my_exp), ('distance', 'distance')],\n",
    "    'scores': [recall_score]\n",
    "}"
   ]
  },
  {
   "cell_type": "code",
   "execution_count": 12,
   "metadata": {},
   "outputs": [],
   "source": [
    "folds0 = fold_split(len(y_train), 4)\n",
    "score_train0 = cv_score(X_train, y_train, par0, folds0, neighbors.KNeighborsClassifier)"
   ]
  },
  {
   "cell_type": "markdown",
   "metadata": {},
   "source": [
    "Посчитаем, где в среднем качество лучше"
   ]
  },
  {
   "cell_type": "code",
   "execution_count": 15,
   "metadata": {},
   "outputs": [
    {
     "data": {
      "text/plain": [
       "{'uniform': 0.6434384348115793,\n",
       " 'linear': 0.6953085178688904,\n",
       " 'my_exp': 0.6605275499731177,\n",
       " 'distance': 0.7065966666916362}"
      ]
     },
     "execution_count": 15,
     "metadata": {},
     "output_type": "execute_result"
    }
   ],
   "source": [
    "n = 10\n",
    "score_weights = {'uniform': 0, 'linear': 0, 'my_exp': 0, 'distance': 0}\n",
    "for i in score_train0[0].keys():\n",
    "    score_weights[i[1]] += score_train0[0][i] / n\n",
    "score_weights"
   ]
  },
  {
   "cell_type": "markdown",
   "metadata": {},
   "source": [
    "качество в среднем лучше на весах по расстоянию"
   ]
  },
  {
   "cell_type": "markdown",
   "metadata": {},
   "source": [
    "### Выбор количества соседей (этап 1)"
   ]
  },
  {
   "cell_type": "code",
   "execution_count": 21,
   "metadata": {},
   "outputs": [],
   "source": [
    "tf_idf = TfidfVectorizer(max_df=0.8, min_df=10, stop_words='english')\n",
    "par1 = {\n",
    "    'n_neighbors': [i for i in range(1, 200, 10)],\n",
    "    'weights': [('distance', 'distance')],\n",
    "    'scores': [recall_score, accuracy_score]\n",
    "}"
   ]
  },
  {
   "cell_type": "code",
   "execution_count": 22,
   "metadata": {},
   "outputs": [],
   "source": [
    "folds1 = fold_split(len(y_train), 4)\n",
    "score_train1 = cv_score(X_train, y_train, par1, folds1, neighbors.KNeighborsClassifier)"
   ]
  },
  {
   "cell_type": "code",
   "execution_count": 23,
   "metadata": {},
   "outputs": [
    {
     "data": {
      "text/plain": [
       "Text(0, 0.5, 'score')"
      ]
     },
     "execution_count": 23,
     "metadata": {},
     "output_type": "execute_result"
    },
    {
     "data": {
      "image/png": "[encoded data removed]",
      "text/plain": [
       "<Figure size 432x288 with 1 Axes>"
      ]
     },
     "metadata": {
      "needs_background": "light"
     },
     "output_type": "display_data"
    }
   ],
   "source": [
    "plt.plot(par1['n_neighbors'], list(score_train1[0].values()))\n",
    "plt.plot(par1['n_neighbors'], list(score_train1[1].values()))\n",
    "plt.xlabel(\"neighbors\")\n",
    "plt.ylabel(\"score\")"
   ]
  },
  {
   "cell_type": "markdown",
   "metadata": {},
   "source": [
    "посмотрим на всякий случай изменение качества и на дальше: на 200-400 соседях"
   ]
  },
  {
   "cell_type": "code",
   "execution_count": 16,
   "metadata": {},
   "outputs": [],
   "source": [
    "tf_idf = TfidfVectorizer(max_df=0.8, min_df=10, stop_words='english')\n",
    "par1_2 = {\n",
    "    'n_neighbors': [i for i in range(201, 402, 10)],\n",
    "    'weights': [('distance', 'distance')],\n",
    "    'scores': [recall_score, accuracy_score]\n",
    "}"
   ]
  },
  {
   "cell_type": "code",
   "execution_count": 17,
   "metadata": {},
   "outputs": [],
   "source": [
    "folds1 = fold_split(len(y_train), 4)\n",
    "score_train1_2 = cv_score(X_train, y_train, par1_2, folds1, neighbors.KNeighborsClassifier)"
   ]
  },
  {
   "cell_type": "code",
   "execution_count": 18,
   "metadata": {},
   "outputs": [
    {
     "data": {
      "text/plain": [
       "Text(0, 0.5, 'score')"
      ]
     },
     "execution_count": 18,
     "metadata": {},
     "output_type": "execute_result"
    },
    {
     "data": {
      "image/png": "[encoded data removed]",
      "text/plain": [
       "<Figure size 432x288 with 1 Axes>"
      ]
     },
     "metadata": {
      "needs_background": "light"
     },
     "output_type": "display_data"
    }
   ],
   "source": [
    "plt.plot(par1_2['n_neighbors'], list(score_train1_2[0].values()))\n",
    "plt.plot(par1_2['n_neighbors'], list(score_train1_2[1].values()))\n",
    "plt.xlabel(\"neighbors\")\n",
    "plt.ylabel(\"score\")"
   ]
  },
  {
   "cell_type": "markdown",
   "metadata": {},
   "source": [
    "recall немного растёт, accuracy не меняется"
   ]
  },
  {
   "cell_type": "code",
   "execution_count": 25,
   "metadata": {},
   "outputs": [
    {
     "data": {
      "text/plain": [
       "(221, 'distance')"
      ]
     },
     "execution_count": 25,
     "metadata": {},
     "output_type": "execute_result"
    }
   ],
   "source": [
    "for k, v in score_train1_2[1].items():\n",
    "    if v == max(score_train1_2[1].values()):\n",
    "        best_par = k\n",
    "best_par"
   ]
  },
  {
   "cell_type": "markdown",
   "metadata": {},
   "source": [
    "### Дополнительно"
   ]
  },
  {
   "cell_type": "markdown",
   "metadata": {},
   "source": [
    "Посмотрим как качестов менялось на ещё большем числе соседей "
   ]
  },
  {
   "cell_type": "code",
   "execution_count": null,
   "metadata": {},
   "outputs": [],
   "source": [
    "tf_idf = TfidfVectorizer(max_df=0.8, min_df=10, stop_words='english')\n",
    "par1_3 = {\n",
    "    'n_neighbors': [i for i in range(1, 1002, 100)],\n",
    "    'weights': [('distance', 'distance')],\n",
    "    'scores': [recall_score, accuracy_score]\n",
    "}"
   ]
  },
  {
   "cell_type": "code",
   "execution_count": null,
   "metadata": {},
   "outputs": [],
   "source": [
    "folds1 = fold_split(len(y_train), 4)\n",
    "score_train1_3 = cv_score(X_train, y_train, par1_3, folds1, neighbors.KNeighborsClassifier)"
   ]
  },
  {
   "cell_type": "code",
   "execution_count": 13,
   "metadata": {},
   "outputs": [
    {
     "data": {
      "text/plain": [
       "<matplotlib.legend.Legend at 0x13d881982b0>"
      ]
     },
     "execution_count": 13,
     "metadata": {},
     "output_type": "execute_result"
    },
    {
     "data": {
      "image/png": "[encoded data removed]",
      "text/plain": [
       "<Figure size 432x288 with 1 Axes>"
      ]
     },
     "metadata": {
      "needs_background": "light"
     },
     "output_type": "display_data"
    }
   ],
   "source": [
    "plt.plot(par1_3['n_neighbors'], list(score_train1_3[0].values()), label='recall')\n",
    "plt.plot(par1_3['n_neighbors'], list(score_train1_3[1].values()), label='accuracy')\n",
    "plt.xlabel(\"neighbors\")\n",
    "plt.ylabel(\"score\")\n",
    "plt.legend()"
   ]
  },
  {
   "cell_type": "markdown",
   "metadata": {},
   "source": [
    "Accuracy стал понемногу падать"
   ]
  },
  {
   "cell_type": "markdown",
   "metadata": {},
   "source": [
    "### Обучение на лучших параметрах"
   ]
  },
  {
   "cell_type": "code",
   "execution_count": 39,
   "metadata": {},
   "outputs": [
    {
     "data": {
      "text/plain": [
       "(0.6777913859971423, 0.8603077493511309)"
      ]
     },
     "execution_count": 39,
     "metadata": {},
     "output_type": "execute_result"
    }
   ],
   "source": [
    "neigh = neighbors.KNeighborsClassifier(n_neighbors=best_par[0],\n",
    "                                      metric='cosine', weights=best_par[1])\n",
    "scaler = TfidfVectorizer(max_df=0.8, min_df=10, stop_words='english')\n",
    "scaler.fit(X_train)\n",
    "X_train = scaler.transform(X_train)\n",
    "X_test = scaler.transform(X_test)\n",
    "neigh.fit(X_train, y_train)\n",
    "score_test1_acc = accuracy_score(y_test, neigh.predict(X_test))\n",
    "score_test1_rec = recall_score(y_test, neigh.predict(X_test))\n",
    "score_test1_acc, score_test1_rec"
   ]
  },
  {
   "cell_type": "markdown",
   "metadata": {},
   "source": [
    "### Демонстрация на конкретных фильмах"
   ]
  },
  {
   "cell_type": "markdown",
   "metadata": {},
   "source": [
    "Возьмём 20 фильмов с наибольшим числом отзывов и посмотрим сами результат"
   ]
  },
  {
   "cell_type": "code",
   "execution_count": 40,
   "metadata": {},
   "outputs": [],
   "source": [
    "mv = movies0.sort_values('votes')\n",
    "mv = mv.tail(20)\n",
    "demo_np = mv['description'] + ' ' + mv['actors'] + ' ' + mv['original_title'] + ' ' + mv['director'] + ' ' + mv['writer'] + ' ' + mv['production_company']\n",
    "demo_np = np.array(demo_np)"
   ]
  },
  {
   "cell_type": "code",
   "execution_count": 41,
   "metadata": {},
   "outputs": [
    {
     "data": {
      "text/html": [
       "<div>\n",
       "<style scoped>\n",
       "    .dataframe tbody tr th:only-of-type {\n",
       "        vertical-align: middle;\n",
       "    }\n",
       "\n",
       "    .dataframe tbody tr th {\n",
       "        vertical-align: top;\n",
       "    }\n",
       "\n",
       "    .dataframe thead th {\n",
       "        text-align: right;\n",
       "    }\n",
       "</style>\n",
       "<table border=\"1\" class=\"dataframe\">\n",
       "  <thead>\n",
       "    <tr style=\"text-align: right;\">\n",
       "      <th></th>\n",
       "      <th>original_title</th>\n",
       "      <th>genre</th>\n",
       "      <th>drama</th>\n",
       "    </tr>\n",
       "  </thead>\n",
       "  <tbody>\n",
       "    <tr>\n",
       "      <th>43404</th>\n",
       "      <td>Inglourious Basterds</td>\n",
       "      <td>Adventure, Drama, War</td>\n",
       "      <td>1.0</td>\n",
       "    </tr>\n",
       "    <tr>\n",
       "      <th>26257</th>\n",
       "      <td>The Silence of the Lambs</td>\n",
       "      <td>Crime, Drama, Thriller</td>\n",
       "      <td>0.0</td>\n",
       "    </tr>\n",
       "    <tr>\n",
       "      <th>50773</th>\n",
       "      <td>The Avengers</td>\n",
       "      <td>Action, Adventure, Sci-Fi</td>\n",
       "      <td>0.0</td>\n",
       "    </tr>\n",
       "    <tr>\n",
       "      <th>43935</th>\n",
       "      <td>Batman Begins</td>\n",
       "      <td>Action, Adventure</td>\n",
       "      <td>0.0</td>\n",
       "    </tr>\n",
       "    <tr>\n",
       "      <th>34440</th>\n",
       "      <td>Gladiator</td>\n",
       "      <td>Action, Adventure, Drama</td>\n",
       "      <td>1.0</td>\n",
       "    </tr>\n",
       "    <tr>\n",
       "      <th>62660</th>\n",
       "      <td>Django Unchained</td>\n",
       "      <td>Drama, Western</td>\n",
       "      <td>0.0</td>\n",
       "    </tr>\n",
       "    <tr>\n",
       "      <th>29287</th>\n",
       "      <td>Se7en</td>\n",
       "      <td>Crime, Drama, Mystery</td>\n",
       "      <td>1.0</td>\n",
       "    </tr>\n",
       "    <tr>\n",
       "      <th>50294</th>\n",
       "      <td>Interstellar</td>\n",
       "      <td>Adventure, Drama, Sci-Fi</td>\n",
       "      <td>1.0</td>\n",
       "    </tr>\n",
       "    <tr>\n",
       "      <th>34128</th>\n",
       "      <td>The Lord of the Rings: The Two Towers</td>\n",
       "      <td>Action, Adventure, Drama</td>\n",
       "      <td>1.0</td>\n",
       "    </tr>\n",
       "    <tr>\n",
       "      <th>57234</th>\n",
       "      <td>The Dark Knight Rises</td>\n",
       "      <td>Action, Adventure</td>\n",
       "      <td>0.0</td>\n",
       "    </tr>\n",
       "    <tr>\n",
       "      <th>15528</th>\n",
       "      <td>The Godfather</td>\n",
       "      <td>Crime, Drama</td>\n",
       "      <td>1.0</td>\n",
       "    </tr>\n",
       "    <tr>\n",
       "      <th>34127</th>\n",
       "      <td>The Lord of the Rings: The Return of the King</td>\n",
       "      <td>Action, Adventure, Drama</td>\n",
       "      <td>1.0</td>\n",
       "    </tr>\n",
       "    <tr>\n",
       "      <th>31279</th>\n",
       "      <td>The Lord of the Rings: The Fellowship of the Ring</td>\n",
       "      <td>Action, Adventure, Drama</td>\n",
       "      <td>1.0</td>\n",
       "    </tr>\n",
       "    <tr>\n",
       "      <th>32229</th>\n",
       "      <td>The Matrix</td>\n",
       "      <td>Action, Sci-Fi</td>\n",
       "      <td>1.0</td>\n",
       "    </tr>\n",
       "    <tr>\n",
       "      <th>28066</th>\n",
       "      <td>Forrest Gump</td>\n",
       "      <td>Drama, Romance</td>\n",
       "      <td>1.0</td>\n",
       "    </tr>\n",
       "    <tr>\n",
       "      <th>28381</th>\n",
       "      <td>Pulp Fiction</td>\n",
       "      <td>Crime, Drama</td>\n",
       "      <td>1.0</td>\n",
       "    </tr>\n",
       "    <tr>\n",
       "      <th>32487</th>\n",
       "      <td>Fight Club</td>\n",
       "      <td>Drama</td>\n",
       "      <td>1.0</td>\n",
       "    </tr>\n",
       "    <tr>\n",
       "      <th>57475</th>\n",
       "      <td>Inception</td>\n",
       "      <td>Action, Adventure, Sci-Fi</td>\n",
       "      <td>0.0</td>\n",
       "    </tr>\n",
       "    <tr>\n",
       "      <th>48078</th>\n",
       "      <td>The Dark Knight</td>\n",
       "      <td>Action, Crime, Drama</td>\n",
       "      <td>0.0</td>\n",
       "    </tr>\n",
       "    <tr>\n",
       "      <th>28453</th>\n",
       "      <td>The Shawshank Redemption</td>\n",
       "      <td>Drama</td>\n",
       "      <td>1.0</td>\n",
       "    </tr>\n",
       "  </tbody>\n",
       "</table>\n",
       "</div>"
      ],
      "text/plain": [
       "                                          original_title  \\\n",
       "43404                               Inglourious Basterds   \n",
       "26257                           The Silence of the Lambs   \n",
       "50773                                       The Avengers   \n",
       "43935                                      Batman Begins   \n",
       "34440                                          Gladiator   \n",
       "62660                                   Django Unchained   \n",
       "29287                                              Se7en   \n",
       "50294                                       Interstellar   \n",
       "34128              The Lord of the Rings: The Two Towers   \n",
       "57234                              The Dark Knight Rises   \n",
       "15528                                      The Godfather   \n",
       "34127      The Lord of the Rings: The Return of the King   \n",
       "31279  The Lord of the Rings: The Fellowship of the Ring   \n",
       "32229                                         The Matrix   \n",
       "28066                                       Forrest Gump   \n",
       "28381                                       Pulp Fiction   \n",
       "32487                                         Fight Club   \n",
       "57475                                          Inception   \n",
       "48078                                    The Dark Knight   \n",
       "28453                           The Shawshank Redemption   \n",
       "\n",
       "                           genre  drama  \n",
       "43404      Adventure, Drama, War    1.0  \n",
       "26257     Crime, Drama, Thriller    0.0  \n",
       "50773  Action, Adventure, Sci-Fi    0.0  \n",
       "43935          Action, Adventure    0.0  \n",
       "34440   Action, Adventure, Drama    1.0  \n",
       "62660             Drama, Western    0.0  \n",
       "29287      Crime, Drama, Mystery    1.0  \n",
       "50294   Adventure, Drama, Sci-Fi    1.0  \n",
       "34128   Action, Adventure, Drama    1.0  \n",
       "57234          Action, Adventure    0.0  \n",
       "15528               Crime, Drama    1.0  \n",
       "34127   Action, Adventure, Drama    1.0  \n",
       "31279   Action, Adventure, Drama    1.0  \n",
       "32229             Action, Sci-Fi    1.0  \n",
       "28066             Drama, Romance    1.0  \n",
       "28381               Crime, Drama    1.0  \n",
       "32487                      Drama    1.0  \n",
       "57475  Action, Adventure, Sci-Fi    0.0  \n",
       "48078       Action, Crime, Drama    0.0  \n",
       "28453                      Drama    1.0  "
      ]
     },
     "execution_count": 41,
     "metadata": {},
     "output_type": "execute_result"
    }
   ],
   "source": [
    "demo_train = scaler.transform(demo_np)\n",
    "mv['drama'] = neigh.predict(demo_train)\n",
    "mv[['original_title','genre', 'drama']]"
   ]
  },
  {
   "cell_type": "markdown",
   "metadata": {},
   "source": [
    "Ошибки есть, но в целом классификация верная"
   ]
  },
  {
   "cell_type": "markdown",
   "metadata": {},
   "source": [
    "## Жанр комедия"
   ]
  },
  {
   "cell_type": "code",
   "execution_count": 28,
   "metadata": {},
   "outputs": [
    {
     "name": "stdout",
     "output_type": "stream",
     "text": [
      "пример текста\n",
      "While on holiday in Rhodes, Athenian war hero Darios becomes involved in two different plots to overthrow the tyrannical king, one from Rhodian patriots and the other from sinister Phoenician agents. Rory Calhoun, Lea Massari, Georges Marchal, Conrado San Martín, Ángel Aranda, Mabel Karr, Mimmo Palmara, Roberto Camardiel, Alfio Caltabiano, George Rigaud, Yann Larvor, Carlo Tamberlani, Félix Fernández, Ignazio Dolce, Antonio Casas Il colosso di Rodi Sergio Leone Ennio De Concini, Sergio Leone Cine-Produzioni Associate\n",
      "\n",
      "размеры выборок: (58788, 19596)\n"
     ]
    }
   ],
   "source": [
    "from sklearn.model_selection import train_test_split\n",
    "X = movies['description'] + ' ' + movies['actors'] + ' ' + movies['original_title'] + ' ' + movies['director'] + ' ' + movies['writer'] + ' ' + movies['production_company']\n",
    "X_train, X_test, y_train, y_test = train_test_split(X, movies['comedy'],\n",
    "                                                    random_state=123, shuffle=True, test_size=0.25)\n",
    "X_train = np.array(X_train)\n",
    "X_test = np.array(X_test)\n",
    "y_train = np.array(y_train)\n",
    "y_test = np.array(y_test)\n",
    "\n",
    "print(f'пример текста\\n{X_train[0]}')\n",
    "print(f'\\nразмеры выборок: {len(X_train), len(X_test)}')"
   ]
  },
  {
   "cell_type": "markdown",
   "metadata": {},
   "source": [
    "### Выбор веса (этап 0)"
   ]
  },
  {
   "cell_type": "code",
   "execution_count": 29,
   "metadata": {},
   "outputs": [],
   "source": [
    "par0 = {\n",
    "    'n_neighbors': [i for i in range(1, 11)],\n",
    "    'weights': [('uniform', 'uniform'), ('linear', linear), ('my_exp', my_exp), ('distance', 'distance')],\n",
    "    'scores': [recall_score]\n",
    "}"
   ]
  },
  {
   "cell_type": "code",
   "execution_count": null,
   "metadata": {},
   "outputs": [],
   "source": [
    "folds0 = fold_split(len(y_train), 4)\n",
    "score_train0 = cv_score(X_train, y_train, par0, folds0, neighbors.KNeighborsClassifier)"
   ]
  },
  {
   "cell_type": "code",
   "execution_count": 19,
   "metadata": {},
   "outputs": [
    {
     "data": {
      "text/plain": [
       "{'uniform': 0.4381890393976558,\n",
       " 'linear': 0.5140844925609015,\n",
       " 'my_exp': 0.5629390075229098,\n",
       " 'distance': 0.5093544166360856}"
      ]
     },
     "execution_count": 19,
     "metadata": {},
     "output_type": "execute_result"
    }
   ],
   "source": [
    "n = 10\n",
    "score_weights = {'uniform': 0, 'linear': 0, 'my_exp': 0, 'distance': 0}\n",
    "for i in score_train0[0].keys():\n",
    "    score_weights[i[1]] += score_train0[0][i] / n\n",
    "score_weights"
   ]
  },
  {
   "cell_type": "markdown",
   "metadata": {},
   "source": [
    "Экспоненциально взвешенные веса оказались лучше, но их качество не улучшается с ростом числа соседей.\n",
    "\n",
    "Произведём обучение на большем числе соседей, взвешивая по расстоянию (предположительно это улучшит качество)"
   ]
  },
  {
   "cell_type": "markdown",
   "metadata": {},
   "source": [
    "### Выбор количества соседей (этап 1)"
   ]
  },
  {
   "cell_type": "code",
   "execution_count": 13,
   "metadata": {},
   "outputs": [],
   "source": [
    "tf_idf = TfidfVectorizer(max_df=0.8, min_df=10, stop_words='english')\n",
    "par1 = {\n",
    "    'n_neighbors': [i for i in range(1, 200, 10)],\n",
    "    'weights': [('distance', 'distance')],\n",
    "    'scores': [recall_score, accuracy_score]\n",
    "}"
   ]
  },
  {
   "cell_type": "code",
   "execution_count": 17,
   "metadata": {},
   "outputs": [],
   "source": [
    "folds1 = fold_split(len(y_train), 4)\n",
    "score_train1 = cv_score(X_train, y_train, par1, folds1, neighbors.KNeighborsClassifier)"
   ]
  },
  {
   "cell_type": "code",
   "execution_count": 18,
   "metadata": {},
   "outputs": [
    {
     "data": {
      "text/plain": [
       "Text(0, 0.5, 'score')"
      ]
     },
     "execution_count": 18,
     "metadata": {},
     "output_type": "execute_result"
    },
    {
     "data": {
      "image/png": "[encoded data removed]",
      "text/plain": [
       "<Figure size 432x288 with 1 Axes>"
      ]
     },
     "metadata": {
      "needs_background": "light"
     },
     "output_type": "display_data"
    }
   ],
   "source": [
    "plt.plot(par1['n_neighbors'], list(score_train1[0].values()))\n",
    "plt.plot(par1['n_neighbors'], list(score_train1[1].values()))\n",
    "plt.xlabel(\"neighbors\")\n",
    "plt.ylabel(\"score\")"
   ]
  },
  {
   "cell_type": "markdown",
   "metadata": {},
   "source": [
    "Предположение не оправдалось. Увеличение числа соседей при взвешивании по расстоянию только снизило качество, остановимся на экспоненциальных в случае комедии."
   ]
  },
  {
   "cell_type": "markdown",
   "metadata": {},
   "source": [
    "### Обучение на лучших параметрах"
   ]
  },
  {
   "cell_type": "code",
   "execution_count": 25,
   "metadata": {},
   "outputs": [
    {
     "data": {
      "text/plain": [
       "(0.6887119820371504, 0.5811213838353713)"
      ]
     },
     "execution_count": 25,
     "metadata": {},
     "output_type": "execute_result"
    }
   ],
   "source": [
    "neigh = neighbors.KNeighborsClassifier(n_neighbors=5, \n",
    "                                      metric='cosine', weights=my_exp)\n",
    "scaler = TfidfVectorizer(max_df=0.8, min_df=10, stop_words='english')\n",
    "scaler.fit(X_train)\n",
    "X_train = scaler.transform(X_train)\n",
    "X_test = scaler.transform(X_test)\n",
    "neigh.fit(X_train, y_train)\n",
    "score_test1_acc = accuracy_score(y_test, neigh.predict(X_test))\n",
    "score_test1_rec = recall_score(y_test, neigh.predict(X_test))\n",
    "score_test1_acc, score_test1_rec"
   ]
  },
  {
   "cell_type": "code",
   "execution_count": 33,
   "metadata": {},
   "outputs": [
    {
     "data": {
      "text/plain": [
       "1.0    43326\n",
       "0.0    35058\n",
       "Name: drama, dtype: int64"
      ]
     },
     "execution_count": 33,
     "metadata": {},
     "output_type": "execute_result"
    }
   ],
   "source": [
    "movies['drama'].value_counts()"
   ]
  },
  {
   "cell_type": "code",
   "execution_count": 34,
   "metadata": {},
   "outputs": [
    {
     "data": {
      "text/plain": [
       "0.0    51877\n",
       "1.0    26507\n",
       "Name: comedy, dtype: int64"
      ]
     },
     "execution_count": 34,
     "metadata": {},
     "output_type": "execute_result"
    }
   ],
   "source": [
    "movies['comedy'].value_counts()"
   ]
  },
  {
   "cell_type": "markdown",
   "metadata": {},
   "source": [
    "Класс комедийных фильмов в два раза меньше некомедийных. Это могло повлечь снижение качества recall"
   ]
  }
 ],
 "metadata": {
  "kernelspec": {
   "display_name": "Python 3",
   "language": "python",
   "name": "python3"
  },
  "language_info": {
   "codemirror_mode": {
    "name": "ipython",
    "version": 3
   },
   "file_extension": ".py",
   "mimetype": "text/x-python",
   "name": "python",
   "nbconvert_exporter": "python",
   "pygments_lexer": "ipython3",
   "version": "3.8.3"
  }
 },
 "nbformat": 4,
 "nbformat_minor": 4
}
